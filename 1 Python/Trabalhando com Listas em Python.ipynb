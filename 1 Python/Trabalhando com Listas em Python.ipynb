{
 "cells": [
  {
   "cell_type": "markdown",
   "metadata": {},
   "source": [
    "### **Criando uma lista**"
   ]
  },
  {
   "cell_type": "code",
   "execution_count": 16,
   "metadata": {},
   "outputs": [
    {
     "name": "stdout",
     "output_type": "stream",
     "text": [
      "['laranja', 'maca', 'uva']\n"
     ]
    }
   ],
   "source": [
    "frutas = [\"laranja\", \"maca\", \"uva\"]\n",
    "print(frutas)"
   ]
  },
  {
   "cell_type": "markdown",
   "metadata": {},
   "source": [
    "### **Criando uma lista vazia**"
   ]
  },
  {
   "cell_type": "code",
   "execution_count": 17,
   "metadata": {},
   "outputs": [
    {
     "name": "stdout",
     "output_type": "stream",
     "text": [
      "[]\n"
     ]
    }
   ],
   "source": [
    "frutas = []\n",
    "print(frutas)"
   ]
  },
  {
   "cell_type": "markdown",
   "metadata": {},
   "source": [
    "### **Criando uma lista baseada no caracteres de uma palavra**"
   ]
  },
  {
   "cell_type": "code",
   "execution_count": 18,
   "metadata": {},
   "outputs": [
    {
     "name": "stdout",
     "output_type": "stream",
     "text": [
      "['p', 'y', 't', 'h', 'o', 'n']\n"
     ]
    }
   ],
   "source": [
    "letras = list(\"python\")\n",
    "print(letras)"
   ]
  },
  {
   "cell_type": "markdown",
   "metadata": {},
   "source": [
    "### **Criando uma lista com números de 0 à 9**"
   ]
  },
  {
   "cell_type": "code",
   "execution_count": 19,
   "metadata": {},
   "outputs": [
    {
     "name": "stdout",
     "output_type": "stream",
     "text": [
      "[0, 1, 2, 3, 4, 5, 6, 7, 8, 9]\n"
     ]
    }
   ],
   "source": [
    "numeros = list(range(10))\n",
    "print(numeros)"
   ]
  },
  {
   "cell_type": "markdown",
   "metadata": {},
   "source": [
    "### **Criando uma lista com dados de um automóvel**"
   ]
  },
  {
   "cell_type": "code",
   "execution_count": 20,
   "metadata": {},
   "outputs": [
    {
     "name": "stdout",
     "output_type": "stream",
     "text": [
      "['Ferrari', 'F8', 4200000, 2020, 2900, 'São Paulo', True]\n"
     ]
    }
   ],
   "source": [
    "carros = [\"Ferrari\", \"F8\", 4200000, 2020, 2900, \"São Paulo\", True]\n",
    "print(carros)"
   ]
  },
  {
   "cell_type": "markdown",
   "metadata": {},
   "source": [
    "### **Retornando elementos de uma lista**"
   ]
  },
  {
   "cell_type": "code",
   "execution_count": 21,
   "metadata": {},
   "outputs": [
    {
     "name": "stdout",
     "output_type": "stream",
     "text": [
      "laranja\n",
      "uva\n",
      "uva\n",
      "laranja\n"
     ]
    }
   ],
   "source": [
    "frutas = [\"laranja\", \"maca\", \"uva\"]\n",
    "print(frutas[0]) # printa o primeiro elemento da lista\n",
    "print(frutas[2]) # printa o terceiro elemento da lista\n",
    "print(frutas[-1]) # printa o último elemento da lista\n",
    "print(frutas[-3]) # nexte exemplo, printa o primeiro elemento da lista"
   ]
  },
  {
   "cell_type": "markdown",
   "metadata": {},
   "source": [
    "### **Matriz**"
   ]
  },
  {
   "cell_type": "code",
   "execution_count": 22,
   "metadata": {},
   "outputs": [
    {
     "name": "stdout",
     "output_type": "stream",
     "text": [
      "[1, 'a', 2]\n",
      "1\n",
      "2\n",
      "c\n"
     ]
    }
   ],
   "source": [
    "matriz = [\n",
    "    [1, \"a\", 2],\n",
    "    [\"b\", 3, 4],\n",
    "    [6, 5, \"c\"]\n",
    "]\n",
    "\n",
    "a = matriz[0] # retorna a primeira linha de uma matriz\n",
    "print(a)\n",
    "a = matriz[0][0] # retorna o primeiro elemento da primeira linha\n",
    "print(a)\n",
    "a = matriz[0][-1] # retorna o último elemento da primeira linha\n",
    "print(a)\n",
    "a = matriz[-1][-1] # retorna o último elemento da última linha\n",
    "print(a)"
   ]
  },
  {
   "cell_type": "markdown",
   "metadata": {},
   "source": [
    "### **Fatiamento de uma lista**"
   ]
  },
  {
   "cell_type": "code",
   "execution_count": 23,
   "metadata": {},
   "outputs": [
    {
     "name": "stdout",
     "output_type": "stream",
     "text": [
      "1 -  ['t', 'h', 'o', 'n']\n",
      "2 -  ['p', 'y']\n",
      "3 -  ['y', 't']\n",
      "4 -  ['p', 't']\n",
      "5 -  ['p', 'y', 't', 'h', 'o', 'n']\n",
      "6 -  ['n', 'o', 'h', 't', 'y', 'p']\n"
     ]
    }
   ],
   "source": [
    "lista = [\"p\", \"y\", \"t\", \"h\", \"o\", \"n\"]\n",
    "\n",
    "a = lista[2:]\n",
    "print('1 - ', a) # retorna a partir do terceiro elemento\n",
    "\n",
    "a = lista[:2]\n",
    "print('2 - ', a) # retorna até o segundo elemento\n",
    "\n",
    "a = lista[1:3]\n",
    "print('3 - ', a) # retorna entre o segundo elemento e o quarto\n",
    "\n",
    "a = lista[0:3:2] # retorna do primeiro elemento até o quarto, pudando de dois em dois elementos\n",
    "print('4 - ', a)\n",
    "\n",
    "a = lista[::] # retorna toda a lista\n",
    "print('5 - ', a)\n",
    "\n",
    "a = lista[::-1] # retorna a lista de trás para frente\n",
    "print('6 - ', a)"
   ]
  },
  {
   "cell_type": "markdown",
   "metadata": {},
   "source": [
    "### **Iterar listas (percorrer uma lista)**"
   ]
  },
  {
   "cell_type": "code",
   "execution_count": 24,
   "metadata": {},
   "outputs": [
    {
     "name": "stdout",
     "output_type": "stream",
     "text": [
      "gol\n",
      "celta\n",
      "palio\n"
     ]
    }
   ],
   "source": [
    "carros = [\"gol\", \"celta\", \"palio\"]\n",
    "\n",
    "for carro in carros:\n",
    "    print(f'{carro}')"
   ]
  },
  {
   "cell_type": "markdown",
   "metadata": {},
   "source": [
    "### **Função enumerate**\n",
    "\n",
    "Nos retorna o índice e o elemento de uma lista"
   ]
  },
  {
   "cell_type": "code",
   "execution_count": 25,
   "metadata": {},
   "outputs": [
    {
     "name": "stdout",
     "output_type": "stream",
     "text": [
      "1 - gol\n",
      "2 - celta\n",
      "3 - palio\n"
     ]
    }
   ],
   "source": [
    "carros = [\"gol\", \"celta\", \"palio\"]\n",
    "\n",
    "indice = 0\n",
    "for indice, carro in enumerate(carros):\n",
    "    indice += 1\n",
    "    print(f'{indice} - {carro}')"
   ]
  },
  {
   "cell_type": "markdown",
   "metadata": {},
   "source": [
    "### **Compreensão de listas**\n",
    "\n",
    "É uma sintaxe curta quando se deseja criar uma nova lista com base em outra lista"
   ]
  },
  {
   "cell_type": "code",
   "execution_count": 26,
   "metadata": {},
   "outputs": [
    {
     "name": "stdout",
     "output_type": "stream",
     "text": [
      "Ex 1 - [30, 2, 34]\n",
      "Ex 2 - [30, 2, 34]\n"
     ]
    }
   ],
   "source": [
    "# exemplo mais longo\n",
    "numeros = [1, 30 ,21, 2, 9, 65, 34]\n",
    "pares = []\n",
    "\n",
    "for numero in numeros:\n",
    "    if numero % 2 == 0:\n",
    "        pares.append(numero) # adiciona o índice número na lista 'pares'\n",
    "print(f'Ex 1 - {pares}')\n",
    "\n",
    "# versão com compreensão\n",
    "# exemplo mais longo\n",
    "numeros = [1, 30 ,21, 2, 9, 65, 34]\n",
    "pares_exemplo_2 = [numero for numero in numeros if numero % 2 == 0]\n",
    "print(f'Ex 2 - {pares_exemplo_2}')\n",
    "\n"
   ]
  },
  {
   "cell_type": "markdown",
   "metadata": {},
   "source": [
    "### **Copiando uma lista**"
   ]
  },
  {
   "cell_type": "code",
   "execution_count": 27,
   "metadata": {},
   "outputs": [
    {
     "name": "stdout",
     "output_type": "stream",
     "text": [
      "[1, 'Python', [40, 30, 20]]\n"
     ]
    }
   ],
   "source": [
    "lista = [1, \"Python\", [40, 30, 20]]\n",
    "\n",
    "copia = lista.copy()\n",
    "\n",
    "print(copia)  # [1, \"Python\", [40, 30, 20]]"
   ]
  },
  {
   "cell_type": "markdown",
   "metadata": {},
   "source": [
    "### **.append()**\n",
    "adicionando um elemento a uma lista"
   ]
  },
  {
   "cell_type": "code",
   "execution_count": 28,
   "metadata": {},
   "outputs": [
    {
     "name": "stdout",
     "output_type": "stream",
     "text": [
      "[1]\n",
      "[1, 'Python']\n",
      "[1, 'Python', 40, 30, 20]\n"
     ]
    }
   ],
   "source": [
    "lista = []\n",
    "lista.append(1)\n",
    "print(lista)\n",
    "\n",
    "lista.append('Python')\n",
    "print(lista)\n",
    "\n",
    "lista.extend([40, 30, 20])\n",
    "print(lista)"
   ]
  },
  {
   "cell_type": "markdown",
   "metadata": {},
   "source": [
    "### **.clear**\n",
    "limpando uma lista"
   ]
  },
  {
   "cell_type": "code",
   "execution_count": 29,
   "metadata": {},
   "outputs": [
    {
     "name": "stdout",
     "output_type": "stream",
     "text": [
      "[1, 'Python', 40, 30, 20]\n",
      "[]\n"
     ]
    }
   ],
   "source": [
    "print(lista)\n",
    "lista.clear()\n",
    "print(lista)"
   ]
  },
  {
   "cell_type": "markdown",
   "metadata": {},
   "source": [
    "### **.count()**\n",
    "conta o número de repetições em uma lista ou tupla"
   ]
  },
  {
   "cell_type": "code",
   "execution_count": 30,
   "metadata": {},
   "outputs": [
    {
     "name": "stdout",
     "output_type": "stream",
     "text": [
      "2\n"
     ]
    }
   ],
   "source": [
    "cores = ['vermelho', 'azul','vermelho','laranja']\n",
    "cor_vermelha = cores.count('vermelho')\n",
    "print(cor_vermelha)"
   ]
  },
  {
   "cell_type": "markdown",
   "metadata": {},
   "source": [
    "### **.index()**\n",
    "retorna posição de um elemento em uma lista ou tupla"
   ]
  },
  {
   "cell_type": "code",
   "execution_count": 32,
   "metadata": {},
   "outputs": [
    {
     "name": "stdout",
     "output_type": "stream",
     "text": [
      "0\n",
      "3\n"
     ]
    }
   ],
   "source": [
    "cores = ['vermelho', 'azul','vermelho','laranja']\n",
    "print(cores.index('vermelho'))\n",
    "print(cores.index('laranja'))"
   ]
  },
  {
   "cell_type": "markdown",
   "metadata": {},
   "source": [
    "### **.pop()**\n",
    "deleta um elemento de uma lista"
   ]
  },
  {
   "cell_type": "code",
   "execution_count": 37,
   "metadata": {},
   "outputs": [
    {
     "name": "stdout",
     "output_type": "stream",
     "text": [
      "['vermelho', 'azul', 'vermelho']\n",
      "['vermelho', 'vermelho', 'laranja']\n"
     ]
    }
   ],
   "source": [
    "#sem um index identicado, o python deletará o últmo elemento\n",
    "cores = ['vermelho', 'azul','vermelho','laranja']\n",
    "cores.pop()\n",
    "print(cores)\n",
    "\n",
    "# ou com index identicando o elemento a ser deletado\n",
    "cores = ['vermelho', 'azul','vermelho','laranja']\n",
    "cores.pop(1)\n",
    "print(cores)"
   ]
  },
  {
   "cell_type": "markdown",
   "metadata": {},
   "source": [
    "### **.remove()**\n",
    "parecido com o .pop(), porém, a diferença é que identificaremos o elemento e não o index"
   ]
  },
  {
   "cell_type": "code",
   "execution_count": 38,
   "metadata": {},
   "outputs": [
    {
     "name": "stdout",
     "output_type": "stream",
     "text": [
      "['vermelho', 'vermelho', 'laranja']\n"
     ]
    }
   ],
   "source": [
    "#sem um index identicado, o python deletará o últmo elemento\n",
    "cores = ['vermelho', 'azul','vermelho','laranja']\n",
    "cores.remove('azul')\n",
    "print(cores)"
   ]
  },
  {
   "cell_type": "markdown",
   "metadata": {},
   "source": [
    "### **.reverse()**\n",
    "retorna uma lista ou tupla ao contrário"
   ]
  },
  {
   "cell_type": "code",
   "execution_count": 39,
   "metadata": {},
   "outputs": [
    {
     "name": "stdout",
     "output_type": "stream",
     "text": [
      "['laranja', 'vermelho', 'azul', 'vermelho']\n"
     ]
    }
   ],
   "source": [
    "cores = ['vermelho', 'azul','vermelho','laranja']\n",
    "cores.reverse()\n",
    "print(cores)"
   ]
  },
  {
   "cell_type": "markdown",
   "metadata": {},
   "source": [
    "### **.sort()**\n",
    "classifica uma lista ou tupla"
   ]
  },
  {
   "cell_type": "code",
   "execution_count": 43,
   "metadata": {},
   "outputs": [
    {
     "name": "stdout",
     "output_type": "stream",
     "text": [
      "['azul', 'laranja', 'vermelho', 'vermelho']\n",
      "['vermelho', 'vermelho', 'laranja', 'azul']\n",
      "['azul', 'laranja', 'vermelho', 'vermelho']\n",
      "['vermelho', 'vermelho', 'laranja', 'azul']\n"
     ]
    }
   ],
   "source": [
    "# classificação do menor para o maior\n",
    "cores = ['vermelho', 'azul','vermelho','laranja']\n",
    "cores.sort()\n",
    "print(cores)\n",
    "\n",
    "# classificação do maior para o menor\n",
    "cores = ['vermelho', 'azul','vermelho','laranja']\n",
    "cores.sort(reverse=True)\n",
    "print(cores)\n",
    "\n",
    "# classificação pelo tamanho do caracter do menor para o maior\n",
    "cores = ['vermelho', 'azul','vermelho','laranja']\n",
    "cores.sort(key=lambda x:len(x))\n",
    "print(cores)\n",
    "\n",
    "# classificação pelo tamanho do caracter do maior para o menor\n",
    "cores = ['vermelho', 'azul','vermelho','laranja']\n",
    "cores.sort(key=lambda x:len(x), reverse=True)\n",
    "print(cores)"
   ]
  },
  {
   "cell_type": "markdown",
   "metadata": {},
   "source": [
    "### **len()**\n",
    "conta a quantidade de caracteres tem uma lista, tupla ou elemento"
   ]
  },
  {
   "cell_type": "code",
   "execution_count": 44,
   "metadata": {},
   "outputs": [
    {
     "name": "stdout",
     "output_type": "stream",
     "text": [
      "4\n"
     ]
    }
   ],
   "source": [
    "cores = ['vermelho', 'azul','vermelho','laranja']\n",
    "total_caracteres = len(cores)\n",
    "print(total_caracteres)"
   ]
  }
 ],
 "metadata": {
  "kernelspec": {
   "display_name": "Python 3.10.6 64-bit",
   "language": "python",
   "name": "python3"
  },
  "language_info": {
   "codemirror_mode": {
    "name": "ipython",
    "version": 3
   },
   "file_extension": ".py",
   "mimetype": "text/x-python",
   "name": "python",
   "nbconvert_exporter": "python",
   "pygments_lexer": "ipython3",
   "version": "3.10.6"
  },
  "orig_nbformat": 4,
  "vscode": {
   "interpreter": {
    "hash": "91e32b75ecf3080d170411cb1649c483b59a4efe3288a5b0a9b6b201a0b09750"
   }
  }
 },
 "nbformat": 4,
 "nbformat_minor": 2
}
