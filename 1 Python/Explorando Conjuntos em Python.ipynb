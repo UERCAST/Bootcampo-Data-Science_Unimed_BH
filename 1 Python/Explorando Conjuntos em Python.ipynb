{
 "cells": [
  {
   "cell_type": "markdown",
   "metadata": {},
   "source": [
    "### **Conjuntos**\n",
    "\n",
    "* Um set é uma coleção que não possui objetos repetidos, usamos sets para representar conjuntos matemáticos ou eliminar itens duplicados de um iterável."
   ]
  },
  {
   "cell_type": "markdown",
   "metadata": {},
   "source": [
    "### **set()**\n",
    "* Remove duplicidades em uma lista, tupla ou elemento.\n",
    "* No caso do elemento, a duplicidade que será removida é de caracter dentro do próprio elemento. Para isso não pode haver outros elementos em uma lista ou tupla."
   ]
  },
  {
   "cell_type": "code",
   "execution_count": 2,
   "metadata": {},
   "outputs": [
    {
     "name": "stdout",
     "output_type": "stream",
     "text": [
      "{1, 2, 3}\n",
      "{'x', 'a', 'b', 'c', 'i'}\n",
      "{'palio', 'gol', 'celta'}\n",
      "{'java', '´python', 'python'}\n"
     ]
    }
   ],
   "source": [
    "numeros = [1,2,3,1,2,3]\n",
    "numeros = set(numeros)\n",
    "print(numeros)\n",
    "\n",
    "letras = \"abacaxi\"\n",
    "letras = set(letras)\n",
    "print(letras)\n",
    "\n",
    "carros = ('palio', 'gol', 'celta', 'palio')\n",
    "carros = set(carros)\n",
    "print(carros)\n",
    "\n",
    "linguagens = ('´python', 'java', 'python')\n",
    "linguagens = set(linguagens)\n",
    "print(linguagens)\n"
   ]
  },
  {
   "cell_type": "markdown",
   "metadata": {},
   "source": [
    "### **Retornando um elemento de um dicionário**"
   ]
  },
  {
   "cell_type": "code",
   "execution_count": 8,
   "metadata": {},
   "outputs": [
    {
     "name": "stdout",
     "output_type": "stream",
     "text": [
      "{'palio', 'gol', 'celta'}\n",
      "gol\n"
     ]
    }
   ],
   "source": [
    "carros = {'palio', 'gol', 'celta', 'palio'}\n",
    "print(carros)\n",
    "\n",
    "car = list(carros)\n",
    "print(car[1])"
   ]
  },
  {
   "cell_type": "markdown",
   "metadata": {},
   "source": [
    "### **Iterar Dicionários**"
   ]
  },
  {
   "cell_type": "code",
   "execution_count": 11,
   "metadata": {},
   "outputs": [
    {
     "name": "stdout",
     "output_type": "stream",
     "text": [
      "palio\n",
      "gol\n",
      "celta\n"
     ]
    }
   ],
   "source": [
    "carros = {'palio', 'gol', 'celta', 'palio'}\n",
    "\n",
    "for carro in carros:\n",
    "    print(carro)"
   ]
  },
  {
   "cell_type": "markdown",
   "metadata": {},
   "source": [
    "### **Função Enumerate**"
   ]
  },
  {
   "cell_type": "code",
   "execution_count": 12,
   "metadata": {},
   "outputs": [
    {
     "name": "stdout",
     "output_type": "stream",
     "text": [
      "0: palio\n",
      "1: gol\n",
      "2: celta\n"
     ]
    }
   ],
   "source": [
    "carros = {'palio', 'gol', 'celta', 'palio'}\n",
    "\n",
    "for indice, carro in enumerate(carros):\n",
    "    print(f\"{indice}: {carro}\")"
   ]
  },
  {
   "cell_type": "markdown",
   "metadata": {},
   "source": [
    "### **Métodos da Classe Set**"
   ]
  },
  {
   "cell_type": "markdown",
   "metadata": {},
   "source": [
    "## ****{}.union****"
   ]
  }
 ],
 "metadata": {
  "kernelspec": {
   "display_name": "Python 3.10.6 64-bit",
   "language": "python",
   "name": "python3"
  },
  "language_info": {
   "codemirror_mode": {
    "name": "ipython",
    "version": 3
   },
   "file_extension": ".py",
   "mimetype": "text/x-python",
   "name": "python",
   "nbconvert_exporter": "python",
   "pygments_lexer": "ipython3",
   "version": "3.10.6"
  },
  "orig_nbformat": 4,
  "vscode": {
   "interpreter": {
    "hash": "91e32b75ecf3080d170411cb1649c483b59a4efe3288a5b0a9b6b201a0b09750"
   }
  }
 },
 "nbformat": 4,
 "nbformat_minor": 2
}
