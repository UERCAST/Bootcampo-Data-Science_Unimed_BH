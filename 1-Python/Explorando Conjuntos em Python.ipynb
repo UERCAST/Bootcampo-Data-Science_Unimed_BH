{
 "cells": [
  {
   "cell_type": "markdown",
   "metadata": {},
   "source": [
    "### **Conjuntos**\n",
    "\n",
    "* Um set é uma coleção que não possui objetos repetidos, usamos sets para representar conjuntos matemáticos ou eliminar itens duplicados de um iterável."
   ]
  },
  {
   "cell_type": "markdown",
   "metadata": {},
   "source": [
    "### **set()**\n",
    "* Remove duplicidades em uma lista, tupla ou elemento.\n",
    "* No caso do elemento, a duplicidade que será removida é de caracter dentro do próprio elemento. Para isso não pode haver outros elementos em uma lista ou tupla."
   ]
  },
  {
   "cell_type": "code",
   "execution_count": 2,
   "metadata": {},
   "outputs": [
    {
     "name": "stdout",
     "output_type": "stream",
     "text": [
      "{1, 2, 3}\n",
      "{'x', 'a', 'b', 'c', 'i'}\n",
      "{'palio', 'gol', 'celta'}\n",
      "{'java', '´python', 'python'}\n"
     ]
    }
   ],
   "source": [
    "numeros = [1,2,3,1,2,3]\n",
    "numeros = set(numeros)\n",
    "print(numeros)\n",
    "\n",
    "letras = \"abacaxi\"\n",
    "letras = set(letras)\n",
    "print(letras)\n",
    "\n",
    "carros = ('palio', 'gol', 'celta', 'palio')\n",
    "carros = set(carros)\n",
    "print(carros)\n",
    "\n",
    "linguagens = ('´python', 'java', 'python')\n",
    "linguagens = set(linguagens)\n",
    "print(linguagens)\n"
   ]
  },
  {
   "cell_type": "markdown",
   "metadata": {},
   "source": [
    "### **Retornando um elemento de um dicionário**"
   ]
  },
  {
   "cell_type": "code",
   "execution_count": 8,
   "metadata": {},
   "outputs": [
    {
     "name": "stdout",
     "output_type": "stream",
     "text": [
      "{'palio', 'gol', 'celta'}\n",
      "gol\n"
     ]
    }
   ],
   "source": [
    "carros = {'palio', 'gol', 'celta', 'palio'}\n",
    "print(carros)\n",
    "\n",
    "car = list(carros)\n",
    "print(car[1])"
   ]
  },
  {
   "cell_type": "markdown",
   "metadata": {},
   "source": [
    "### **Iterar Dicionários**"
   ]
  },
  {
   "cell_type": "code",
   "execution_count": 11,
   "metadata": {},
   "outputs": [
    {
     "name": "stdout",
     "output_type": "stream",
     "text": [
      "palio\n",
      "gol\n",
      "celta\n"
     ]
    }
   ],
   "source": [
    "carros = {'palio', 'gol', 'celta', 'palio'}\n",
    "\n",
    "for carro in carros:\n",
    "    print(carro)"
   ]
  },
  {
   "cell_type": "markdown",
   "metadata": {},
   "source": [
    "### **Função Enumerate**\n",
    "* retorna o elemento de um conjunto e o seu index"
   ]
  },
  {
   "cell_type": "code",
   "execution_count": 12,
   "metadata": {},
   "outputs": [
    {
     "name": "stdout",
     "output_type": "stream",
     "text": [
      "0: palio\n",
      "1: gol\n",
      "2: celta\n"
     ]
    }
   ],
   "source": [
    "carros = {'palio', 'gol', 'celta', 'palio'}\n",
    "\n",
    "for indice, carro in enumerate(carros):\n",
    "    print(f\"{indice}: {carro}\")"
   ]
  },
  {
   "cell_type": "markdown",
   "metadata": {},
   "source": [
    "### **Métodos da Classe Set**"
   ]
  },
  {
   "cell_type": "markdown",
   "metadata": {},
   "source": [
    "## ****{}.union****\n",
    "* um dois conjuntos"
   ]
  },
  {
   "cell_type": "code",
   "execution_count": 2,
   "metadata": {},
   "outputs": [
    {
     "name": "stdout",
     "output_type": "stream",
     "text": [
      "{1, 2, 3, 4}\n"
     ]
    }
   ],
   "source": [
    "conjunto_a = {1,2}\n",
    "conjunto_b = {3,4}\n",
    "conjunto_a_b = conjunto_a.union(conjunto_b)\n",
    "print(conjunto_a_b)"
   ]
  },
  {
   "cell_type": "markdown",
   "metadata": {},
   "source": [
    "## ****{}.intersection****\n",
    "* faz a interseção de dois conjuntos"
   ]
  },
  {
   "cell_type": "code",
   "execution_count": 3,
   "metadata": {},
   "outputs": [
    {
     "name": "stdout",
     "output_type": "stream",
     "text": [
      "{3}\n"
     ]
    }
   ],
   "source": [
    "conjunto_a = {1,2,3}\n",
    "conjunto_b = {3,4,5}\n",
    "conjunto_a_b = conjunto_a.intersection(conjunto_b)\n",
    "print(conjunto_a_b)"
   ]
  },
  {
   "cell_type": "markdown",
   "metadata": {},
   "source": [
    "## ****{}.difference****\n",
    "* traz a diferença do primeiro conjunto em relação ao segundo"
   ]
  },
  {
   "cell_type": "code",
   "execution_count": 4,
   "metadata": {},
   "outputs": [
    {
     "name": "stdout",
     "output_type": "stream",
     "text": [
      "{1, 2}\n"
     ]
    }
   ],
   "source": [
    "conjunto_a = {1,2,3}\n",
    "conjunto_b = {3,4,5}\n",
    "conjunto_a_b = conjunto_a.difference(conjunto_b)\n",
    "print(conjunto_a_b)"
   ]
  },
  {
   "cell_type": "markdown",
   "metadata": {},
   "source": [
    "## ****{}.symmetric_difference****\n",
    "* traz a diferença entre os dois conjuntos"
   ]
  },
  {
   "cell_type": "code",
   "execution_count": 5,
   "metadata": {},
   "outputs": [
    {
     "name": "stdout",
     "output_type": "stream",
     "text": [
      "{1, 2, 4, 5}\n"
     ]
    }
   ],
   "source": [
    "conjunto_a = {1,2,3}\n",
    "conjunto_b = {3,4,5}\n",
    "conjunto_a_b = conjunto_a.symmetric_difference(conjunto_b)\n",
    "print(conjunto_a_b)"
   ]
  },
  {
   "cell_type": "markdown",
   "metadata": {},
   "source": [
    "## ****{}.issubset****\n",
    "* retorna um resultado boleano caso um conjunto pertença 100% a outro"
   ]
  },
  {
   "cell_type": "code",
   "execution_count": 6,
   "metadata": {},
   "outputs": [
    {
     "name": "stdout",
     "output_type": "stream",
     "text": [
      "True\n",
      "False\n"
     ]
    }
   ],
   "source": [
    "conjunto_a = {1,2,3}\n",
    "conjunto_b = {4,1,2,5,6,3}\n",
    "conjunto_a_b = conjunto_a.issubset(conjunto_b)\n",
    "print(conjunto_a_b)\n",
    "\n",
    "conjunto_b_a = conjunto_b.issubset(conjunto_a)\n",
    "print(conjunto_b_a)"
   ]
  },
  {
   "cell_type": "markdown",
   "metadata": {},
   "source": [
    "## ****{}.issuperset****\n",
    "* faz o contrário do issubset"
   ]
  },
  {
   "cell_type": "code",
   "execution_count": 7,
   "metadata": {},
   "outputs": [
    {
     "name": "stdout",
     "output_type": "stream",
     "text": [
      "False\n",
      "True\n"
     ]
    }
   ],
   "source": [
    "conjunto_a = {1,2,3}\n",
    "conjunto_b = {4,1,2,5,6,3}\n",
    "conjunto_a_b = conjunto_a.issuperset(conjunto_b)\n",
    "print(conjunto_a_b)\n",
    "\n",
    "conjunto_b_a = conjunto_b.issuperset(conjunto_a)\n",
    "print(conjunto_b_a)"
   ]
  },
  {
   "cell_type": "markdown",
   "metadata": {},
   "source": [
    "## ****{}.isdisjoint****\n",
    "* verifica se algum elemento de um conjunto pertençe ao outro"
   ]
  },
  {
   "cell_type": "code",
   "execution_count": 9,
   "metadata": {},
   "outputs": [
    {
     "name": "stdout",
     "output_type": "stream",
     "text": [
      "True\n",
      "False\n"
     ]
    }
   ],
   "source": [
    "conjunto_a = {1,2,3,4,5}\n",
    "conjunto_b = {6,7,8,9}\n",
    "conjunto_c = {1,0}\n",
    "conjunto_a_b = conjunto_a.isdisjoint(conjunto_b)\n",
    "print(conjunto_a_b)\n",
    "\n",
    "conjunto_a_c = conjunto_a.isdisjoint(conjunto_c)\n",
    "print(conjunto_b_a)"
   ]
  },
  {
   "cell_type": "markdown",
   "metadata": {},
   "source": [
    "## ****{}.add****\n",
    "* verifica se um elemento pertence a um conjunto. Caso não pertença, ele o adiciona."
   ]
  },
  {
   "cell_type": "code",
   "execution_count": 13,
   "metadata": {},
   "outputs": [
    {
     "name": "stdout",
     "output_type": "stream",
     "text": [
      "{1, 23}\n",
      "{1, 25, 23}\n"
     ]
    }
   ],
   "source": [
    "sorteio = {1,23}\n",
    "sorteio.add(1)\n",
    "print(sorteio)\n",
    "\n",
    "sorteio = {1,23}\n",
    "sorteio.add(25)\n",
    "print(sorteio)"
   ]
  },
  {
   "cell_type": "markdown",
   "metadata": {},
   "source": [
    "## ****{}.clear****\n",
    "* limpa um conjunto"
   ]
  },
  {
   "cell_type": "code",
   "execution_count": 14,
   "metadata": {},
   "outputs": [
    {
     "name": "stdout",
     "output_type": "stream",
     "text": [
      "set()\n"
     ]
    }
   ],
   "source": [
    "sorteio = {1,23}\n",
    "sorteio.clear()\n",
    "print(sorteio)\n"
   ]
  },
  {
   "cell_type": "markdown",
   "metadata": {},
   "source": [
    "## ****{}.copy****\n",
    "* copia um conjunto"
   ]
  },
  {
   "cell_type": "code",
   "execution_count": 15,
   "metadata": {},
   "outputs": [
    {
     "name": "stdout",
     "output_type": "stream",
     "text": [
      "{1, 23}\n"
     ]
    }
   ],
   "source": [
    "sorteio = {1,23}\n",
    "copia = sorteio.copy()\n",
    "print(copia)\n"
   ]
  },
  {
   "cell_type": "markdown",
   "metadata": {},
   "source": [
    "## ****{}.discard****\n",
    "* descarta um elemento de um conjunto"
   ]
  },
  {
   "cell_type": "code",
   "execution_count": 24,
   "metadata": {},
   "outputs": [
    {
     "name": "stdout",
     "output_type": "stream",
     "text": [
      "{2, 3, 4}\n"
     ]
    }
   ],
   "source": [
    "numero = {1,2,3,4}\n",
    "numero.discard(1)\n",
    "print(numero)\n"
   ]
  },
  {
   "cell_type": "markdown",
   "metadata": {},
   "source": [
    "## ****{}.pop****\n",
    "* descarta o primeiro elemento de um conjunto"
   ]
  },
  {
   "cell_type": "code",
   "execution_count": 26,
   "metadata": {},
   "outputs": [
    {
     "name": "stdout",
     "output_type": "stream",
     "text": [
      "{2, 3, 4}\n"
     ]
    }
   ],
   "source": [
    "numero = {1,2,3,4}\n",
    "numero.pop()\n",
    "print(numero)\n"
   ]
  },
  {
   "cell_type": "markdown",
   "metadata": {},
   "source": [
    "## ****{}.remove****\n",
    "* remove um elemento identificado de um conjunto.\n",
    "* obs: caso o elemento identificado não faça parte do conjunto, o sistema informa que há um erro."
   ]
  },
  {
   "cell_type": "code",
   "execution_count": 27,
   "metadata": {},
   "outputs": [
    {
     "name": "stdout",
     "output_type": "stream",
     "text": [
      "{1, 3, 4}\n"
     ]
    },
    {
     "ename": "KeyError",
     "evalue": "10",
     "output_type": "error",
     "traceback": [
      "\u001b[1;31m---------------------------------------------------------------------------\u001b[0m",
      "\u001b[1;31mKeyError\u001b[0m                                  Traceback (most recent call last)",
      "Cell \u001b[1;32mIn [27], line 6\u001b[0m\n\u001b[0;32m      3\u001b[0m \u001b[39mprint\u001b[39m(numero)\n\u001b[0;32m      5\u001b[0m numero \u001b[39m=\u001b[39m {\u001b[39m1\u001b[39m,\u001b[39m2\u001b[39m,\u001b[39m3\u001b[39m,\u001b[39m4\u001b[39m}\n\u001b[1;32m----> 6\u001b[0m numero\u001b[39m.\u001b[39mremove(\u001b[39m10\u001b[39m)\n\u001b[0;32m      7\u001b[0m \u001b[39mprint\u001b[39m(numero)\n",
      "\u001b[1;31mKeyError\u001b[0m: 10"
     ]
    }
   ],
   "source": [
    "numero = {1,2,3,4}\n",
    "numero.remove(2)\n",
    "print(numero)\n",
    "\n",
    "numero = {1,2,3,4}\n",
    "numero.remove(10)\n",
    "print(numero)"
   ]
  },
  {
   "cell_type": "markdown",
   "metadata": {},
   "source": [
    "## **len**\n",
    "* retorna a qtd de elementos de um conjunto."
   ]
  },
  {
   "cell_type": "code",
   "execution_count": 29,
   "metadata": {},
   "outputs": [
    {
     "name": "stdout",
     "output_type": "stream",
     "text": [
      "4\n"
     ]
    }
   ],
   "source": [
    "numero = {1,2,3,4}\n",
    "tamanho = len(numero)\n",
    "print(tamanho)\n"
   ]
  },
  {
   "cell_type": "markdown",
   "metadata": {},
   "source": [
    "## **in**\n",
    "* retorna um boleano informando se um elemento esta contido em um conjunto ou não."
   ]
  },
  {
   "cell_type": "code",
   "execution_count": 34,
   "metadata": {},
   "outputs": [
    {
     "name": "stdout",
     "output_type": "stream",
     "text": [
      "False\n",
      "True\n"
     ]
    }
   ],
   "source": [
    "numeros = {1,2,3}\n",
    "x = 5 in numeros\n",
    "print(x)\n",
    "\n",
    "numeros = {1,2,3}\n",
    "x = 1 in numeros\n",
    "print(x)"
   ]
  }
 ],
 "metadata": {
  "kernelspec": {
   "display_name": "Python 3.10.6 64-bit",
   "language": "python",
   "name": "python3"
  },
  "language_info": {
   "codemirror_mode": {
    "name": "ipython",
    "version": 3
   },
   "file_extension": ".py",
   "mimetype": "text/x-python",
   "name": "python",
   "nbconvert_exporter": "python",
   "pygments_lexer": "ipython3",
   "version": "3.10.6"
  },
  "orig_nbformat": 4,
  "vscode": {
   "interpreter": {
    "hash": "91e32b75ecf3080d170411cb1649c483b59a4efe3288a5b0a9b6b201a0b09750"
   }
  }
 },
 "nbformat": 4,
 "nbformat_minor": 2
}
