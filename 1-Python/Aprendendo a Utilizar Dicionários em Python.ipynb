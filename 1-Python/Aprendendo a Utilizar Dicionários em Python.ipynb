{
 "cells": [
  {
   "cell_type": "markdown",
   "metadata": {},
   "source": [
    "## **Dicionários - Criação e acesso aos dados**\n",
    "\n",
    "* É um conjunto não-ordenado de pares **chave: valor**, onde as chaves são as únicas em uma dada instância do dicionário.\n",
    "* São delimitados por chaves {}, e contém uma lista de pares **chave: valor** separada por vírgulas."
   ]
  },
  {
   "cell_type": "markdown",
   "metadata": {},
   "source": [
    "### **Declarando um dicionário**"
   ]
  },
  {
   "cell_type": "code",
   "execution_count": 2,
   "metadata": {},
   "outputs": [
    {
     "name": "stdout",
     "output_type": "stream",
     "text": [
      "{'nome': 'Eduardo', 'idade': 28}\n"
     ]
    }
   ],
   "source": [
    "# exemplo 1\n",
    "pessoa = dict(nome = 'Eduardo', idade = 28)\n",
    "print(pessoa)"
   ]
  },
  {
   "cell_type": "code",
   "execution_count": 1,
   "metadata": {},
   "outputs": [
    {
     "name": "stdout",
     "output_type": "stream",
     "text": [
      "{'nome': 'Eduardo', 'Idade': 46}\n"
     ]
    }
   ],
   "source": [
    "# exemplo 2\n",
    "pessoa = {'nome': 'Eduardo', 'Idade': 46}\n",
    "print(pessoa)"
   ]
  },
  {
   "cell_type": "markdown",
   "metadata": {},
   "source": [
    "### **Acrescentando uma chave e valor**"
   ]
  },
  {
   "cell_type": "code",
   "execution_count": 4,
   "metadata": {},
   "outputs": [
    {
     "name": "stdout",
     "output_type": "stream",
     "text": [
      "{'nome': 'Eduardo', 'idade': 28}\n",
      "{'nome': 'Eduardo', 'idade': 28, 'telefone': '99999-8888'}\n"
     ]
    }
   ],
   "source": [
    "print(pessoa)\n",
    "\n",
    "pessoa['telefone'] = '99999-8888'\n",
    "print(pessoa)"
   ]
  },
  {
   "cell_type": "markdown",
   "metadata": {},
   "source": [
    "### **Acessando o valor de uma chave**"
   ]
  },
  {
   "cell_type": "code",
   "execution_count": 7,
   "metadata": {},
   "outputs": [
    {
     "name": "stdout",
     "output_type": "stream",
     "text": [
      "{'nome': 'Eduardo', 'idade': 28, 'telefone': '99999-8888'}\n",
      "Eduardo\n"
     ]
    }
   ],
   "source": [
    "print(pessoa)\n",
    "print(pessoa['nome'])"
   ]
  },
  {
   "cell_type": "markdown",
   "metadata": {},
   "source": [
    "### **Modificando um valor**"
   ]
  },
  {
   "cell_type": "code",
   "execution_count": 8,
   "metadata": {},
   "outputs": [
    {
     "name": "stdout",
     "output_type": "stream",
     "text": [
      "{'nome': 'Eduardo', 'idade': 28, 'telefone': '99999-8888'}\n",
      "{'nome': 'Castro', 'idade': 28, 'telefone': '99999-8888'}\n"
     ]
    }
   ],
   "source": [
    "print(pessoa)\n",
    "pessoa['nome'] = 'Castro'\n",
    "print(pessoa)"
   ]
  },
  {
   "cell_type": "markdown",
   "metadata": {},
   "source": [
    "### **Dicionários aninhados**"
   ]
  },
  {
   "cell_type": "code",
   "execution_count": 14,
   "metadata": {},
   "outputs": [
    {
     "name": "stdout",
     "output_type": "stream",
     "text": [
      "{'nome': 'Guilherme', 'telefone': '3333-2221'}\n",
      "Guilherme\n"
     ]
    }
   ],
   "source": [
    "contatos = {\n",
    "    \"guilherme@gmail.com\": {\"nome\": \"Guilherme\", \"telefone\": \"3333-2221\"},\n",
    "    \"giovanna@gmail.com\": {\"nome\": \"Giovanna\", \"telefone\": \"3443-2121\"},\n",
    "    \"chappie@gmail.com\": {\"nome\": \"Chappie\", \"telefone\": \"3344-9871\"},\n",
    "    \"melaine@gmail.com\": {\"nome\": \"Melaine\", \"telefone\": \"3333-7766\"},\n",
    "}\n",
    "\n",
    "consulta_completa = contatos['guilherme@gmail.com']\n",
    "print(consulta_completa)\n",
    "\n",
    "consulta_por_chave = contatos['guilherme@gmail.com']['nome']\n",
    "print(consulta_por_chave)"
   ]
  },
  {
   "cell_type": "markdown",
   "metadata": {},
   "source": [
    "### **Iterar dicionários**\n",
    "\n",
    "* A forma mais comum de pecorrer os dados de um dicionário é utiliazando o comando **for**"
   ]
  },
  {
   "cell_type": "code",
   "execution_count": 15,
   "metadata": {},
   "outputs": [
    {
     "name": "stdout",
     "output_type": "stream",
     "text": [
      "guilherme@gmail.com {'nome': 'Guilherme', 'telefone': '3333-2221'}\n",
      "giovanna@gmail.com {'nome': 'Giovanna', 'telefone': '3443-2121'}\n",
      "chappie@gmail.com {'nome': 'Chappie', 'telefone': '3344-9871'}\n",
      "melaine@gmail.com {'nome': 'Melaine', 'telefone': '3333-7766'}\n"
     ]
    }
   ],
   "source": [
    "# exemplo 1 e menos recomendável\n",
    "\n",
    "contatos = {\n",
    "    \"guilherme@gmail.com\": {\"nome\": \"Guilherme\", \"telefone\": \"3333-2221\"},\n",
    "    \"giovanna@gmail.com\": {\"nome\": \"Giovanna\", \"telefone\": \"3443-2121\"},\n",
    "    \"chappie@gmail.com\": {\"nome\": \"Chappie\", \"telefone\": \"3344-9871\"},\n",
    "    \"melaine@gmail.com\": {\"nome\": \"Melaine\", \"telefone\": \"3333-7766\"},\n",
    "}\n",
    "\n",
    "for chave in contatos:\n",
    "    print(chave, contatos[chave])"
   ]
  },
  {
   "cell_type": "code",
   "execution_count": 19,
   "metadata": {},
   "outputs": [
    {
     "name": "stdout",
     "output_type": "stream",
     "text": [
      "guilherme@gmail.com {'nome': 'Guilherme', 'telefone': '3333-2221'}\n",
      "giovanna@gmail.com {'nome': 'Giovanna', 'telefone': '3443-2121'}\n",
      "chappie@gmail.com {'nome': 'Chappie', 'telefone': '3344-9871'}\n",
      "melaine@gmail.com {'nome': 'Melaine', 'telefone': '3333-7766'}\n"
     ]
    }
   ],
   "source": [
    "# exemplo 2 e recomendável\n",
    "\n",
    "contatos = {\n",
    "    \"guilherme@gmail.com\": {\"nome\": \"Guilherme\", \"telefone\": \"3333-2221\"},\n",
    "    \"giovanna@gmail.com\": {\"nome\": \"Giovanna\", \"telefone\": \"3443-2121\"},\n",
    "    \"chappie@gmail.com\": {\"nome\": \"Chappie\", \"telefone\": \"3344-9871\"},\n",
    "    \"melaine@gmail.com\": {\"nome\": \"Melaine\", \"telefone\": \"3333-7766\"},\n",
    "}\n",
    "\n",
    "for chave, valor in contatos.items():\n",
    "    print( chave, valor)"
   ]
  },
  {
   "cell_type": "markdown",
   "metadata": {},
   "source": [
    "## **Dicionários - Métodos da classe dict**"
   ]
  },
  {
   "cell_type": "markdown",
   "metadata": {},
   "source": [
    "**{}.clear**"
   ]
  },
  {
   "cell_type": "code",
   "execution_count": 24,
   "metadata": {},
   "outputs": [
    {
     "name": "stdout",
     "output_type": "stream",
     "text": [
      "{'guilherme@gmail.com': {'nome': 'Guilherme', 'telefone': '3333-2221'}, 'giovanna@gmail.com': {'nome': 'Giovanna', 'telefone': '3443-2121'}}\n",
      "\n",
      "{}\n"
     ]
    }
   ],
   "source": [
    "contatos = {\n",
    "    \"guilherme@gmail.com\": {\"nome\": \"Guilherme\", \"telefone\": \"3333-2221\"},\n",
    "    \"giovanna@gmail.com\": {\"nome\": \"Giovanna\", \"telefone\": \"3443-2121\"}\n",
    "}\n",
    "print(contatos)\n",
    "\n",
    "print()\n",
    "\n",
    "contatos.clear()\n",
    "print(contatos)"
   ]
  },
  {
   "cell_type": "markdown",
   "metadata": {},
   "source": [
    "**{}.copy**"
   ]
  },
  {
   "cell_type": "code",
   "execution_count": 30,
   "metadata": {},
   "outputs": [
    {
     "name": "stdout",
     "output_type": "stream",
     "text": [
      "Guilherme\n",
      "Gui\n"
     ]
    }
   ],
   "source": [
    "contatos = {\n",
    "    \"guilherme@gmail.com\": {\"nome\": \"Guilherme\", \"telefone\": \"3333-2221\"},\n",
    "    \"giovanna@gmail.com\": {\"nome\": \"Giovanna\", \"telefone\": \"3443-2121\"}\n",
    "}\n",
    "\n",
    "copia = contatos.copy()\n",
    "copia['guilherme@gmail.com'] = {'nome': 'Gui'}\n",
    "\n",
    "print(contatos['guilherme@gmail.com']['nome'])\n",
    "print(copia['guilherme@gmail.com']['nome'])"
   ]
  },
  {
   "cell_type": "markdown",
   "metadata": {},
   "source": [
    "**{}.fromkeys**"
   ]
  },
  {
   "cell_type": "code",
   "execution_count": 32,
   "metadata": {},
   "outputs": [
    {
     "name": "stdout",
     "output_type": "stream",
     "text": [
      "{'nome': None, 'telefone': None}\n"
     ]
    }
   ],
   "source": [
    "# cria novas chaves e não vincula valores\n",
    "\n",
    "relacao = dict.fromkeys(['nome','telefone'])\n",
    "print(relacao) "
   ]
  },
  {
   "cell_type": "code",
   "execution_count": 35,
   "metadata": {},
   "outputs": [
    {
     "name": "stdout",
     "output_type": "stream",
     "text": [
      "{'nome': 'chave vazia', 'telefone': 'chave vazia'}\n"
     ]
    }
   ],
   "source": [
    "# cria novas chaves e cria um valor padrão\n",
    "\n",
    "relacao2 = dict.fromkeys(['nome','telefone'], 'chave vazia')\n",
    "print(relacao2)"
   ]
  },
  {
   "cell_type": "markdown",
   "metadata": {},
   "source": [
    "**{}.get**\n",
    "\n",
    "* Usado para retornar o valor de uma chave, porém, se a chave consultada não existir, não retornará um erro. "
   ]
  },
  {
   "cell_type": "code",
   "execution_count": 36,
   "metadata": {},
   "outputs": [
    {
     "ename": "KeyError",
     "evalue": "'chave'",
     "output_type": "error",
     "traceback": [
      "\u001b[1;31m---------------------------------------------------------------------------\u001b[0m",
      "\u001b[1;31mKeyError\u001b[0m                                  Traceback (most recent call last)",
      "Cell \u001b[1;32mIn [36], line 6\u001b[0m\n\u001b[0;32m      1\u001b[0m contatos \u001b[39m=\u001b[39m {\n\u001b[0;32m      2\u001b[0m     \u001b[39m\"\u001b[39m\u001b[39mguilherme@gmail.com\u001b[39m\u001b[39m\"\u001b[39m: {\u001b[39m\"\u001b[39m\u001b[39mnome\u001b[39m\u001b[39m\"\u001b[39m: \u001b[39m\"\u001b[39m\u001b[39mGuilherme\u001b[39m\u001b[39m\"\u001b[39m, \u001b[39m\"\u001b[39m\u001b[39mtelefone\u001b[39m\u001b[39m\"\u001b[39m: \u001b[39m\"\u001b[39m\u001b[39m3333-2221\u001b[39m\u001b[39m\"\u001b[39m},\n\u001b[0;32m      3\u001b[0m     \u001b[39m\"\u001b[39m\u001b[39mgiovanna@gmail.com\u001b[39m\u001b[39m\"\u001b[39m: {\u001b[39m\"\u001b[39m\u001b[39mnome\u001b[39m\u001b[39m\"\u001b[39m: \u001b[39m\"\u001b[39m\u001b[39mGiovanna\u001b[39m\u001b[39m\"\u001b[39m, \u001b[39m\"\u001b[39m\u001b[39mtelefone\u001b[39m\u001b[39m\"\u001b[39m: \u001b[39m\"\u001b[39m\u001b[39m3443-2121\u001b[39m\u001b[39m\"\u001b[39m}\n\u001b[0;32m      4\u001b[0m }\n\u001b[1;32m----> 6\u001b[0m \u001b[39mprint\u001b[39m(contatos[\u001b[39m'\u001b[39m\u001b[39mchave\u001b[39m\u001b[39m'\u001b[39m])\n",
      "\u001b[1;31mKeyError\u001b[0m: 'chave'"
     ]
    }
   ],
   "source": [
    "# simulando o erro\n",
    "contatos = {\n",
    "    \"guilherme@gmail.com\": {\"nome\": \"Guilherme\", \"telefone\": \"3333-2221\"},\n",
    "    \"giovanna@gmail.com\": {\"nome\": \"Giovanna\", \"telefone\": \"3443-2121\"}\n",
    "}\n",
    "\n",
    "print(contatos['chave'])"
   ]
  },
  {
   "cell_type": "code",
   "execution_count": 38,
   "metadata": {},
   "outputs": [
    {
     "name": "stdout",
     "output_type": "stream",
     "text": [
      "None\n"
     ]
    }
   ],
   "source": [
    "# sem erro\n",
    "contatos = {\n",
    "    \"guilherme@gmail.com\": {\"nome\": \"Guilherme\", \"telefone\": \"3333-2221\"},\n",
    "    \"giovanna@gmail.com\": {\"nome\": \"Giovanna\", \"telefone\": \"3443-2121\"}\n",
    "}\n",
    "\n",
    "print(contatos.get('chave'))"
   ]
  },
  {
   "cell_type": "code",
   "execution_count": 40,
   "metadata": {},
   "outputs": [
    {
     "name": "stdout",
     "output_type": "stream",
     "text": [
      "None {'Informação não encontrada'}\n"
     ]
    }
   ],
   "source": [
    "# criando um valor defaut de retorno\n",
    "contatos = {\n",
    "    \"guilherme@gmail.com\": {\"nome\": \"Guilherme\", \"telefone\": \"3333-2221\"},\n",
    "    \"giovanna@gmail.com\": {\"nome\": \"Giovanna\", \"telefone\": \"3443-2121\"}\n",
    "}\n",
    "\n",
    "print(contatos.get('chave'), {'Informação não encontrada'})"
   ]
  },
  {
   "cell_type": "markdown",
   "metadata": {},
   "source": [
    "**{}.items**"
   ]
  },
  {
   "cell_type": "code",
   "execution_count": 41,
   "metadata": {},
   "outputs": [
    {
     "name": "stdout",
     "output_type": "stream",
     "text": [
      "dict_items([('guilherme@gmail.com', {'nome': 'Guilherme', 'telefone': '3333-2221'}), ('giovanna@gmail.com', {'nome': 'Giovanna', 'telefone': '3443-2121'})])\n"
     ]
    }
   ],
   "source": [
    "contatos = {\n",
    "    \"guilherme@gmail.com\": {\"nome\": \"Guilherme\", \"telefone\": \"3333-2221\"},\n",
    "    \"giovanna@gmail.com\": {\"nome\": \"Giovanna\", \"telefone\": \"3443-2121\"}\n",
    "}\n",
    "\n",
    "var = contatos.items()\n",
    "\n",
    "print(var)"
   ]
  },
  {
   "cell_type": "markdown",
   "metadata": {},
   "source": [
    "**{}.keys**\n",
    "* retorna apenas as chaves"
   ]
  },
  {
   "cell_type": "code",
   "execution_count": 42,
   "metadata": {},
   "outputs": [
    {
     "name": "stdout",
     "output_type": "stream",
     "text": [
      "dict_keys(['guilherme@gmail.com', 'giovanna@gmail.com'])\n"
     ]
    }
   ],
   "source": [
    "contatos = {\n",
    "    \"guilherme@gmail.com\": {\"nome\": \"Guilherme\", \"telefone\": \"3333-2221\"},\n",
    "    \"giovanna@gmail.com\": {\"nome\": \"Giovanna\", \"telefone\": \"3443-2121\"}\n",
    "}\n",
    "\n",
    "var = contatos.keys()\n",
    "\n",
    "print(var)"
   ]
  },
  {
   "cell_type": "markdown",
   "metadata": {},
   "source": [
    "**{}.pop**\n",
    "* remove e retorna o valor de uma chave.\n",
    "* possibilidade de retornar um valor padrão caso a chave não seja encontrada."
   ]
  },
  {
   "cell_type": "code",
   "execution_count": 45,
   "metadata": {},
   "outputs": [
    {
     "name": "stdout",
     "output_type": "stream",
     "text": [
      "{'nome': 'Guilherme', 'telefone': '3333-2221'}\n",
      "Chave não encontrada\n"
     ]
    }
   ],
   "source": [
    "contatos = {\n",
    "    \"guilherme@gmail.com\": {\"nome\": \"Guilherme\", \"telefone\": \"3333-2221\"},\n",
    "    \"giovanna@gmail.com\": {\"nome\": \"Giovanna\", \"telefone\": \"3443-2121\"}\n",
    "}\n",
    "\n",
    "var = contatos.pop(\"guilherme@gmail.com\",'Chave não encontrada')\n",
    "\n",
    "print(var)\n",
    "\n",
    "var2 = contatos.pop(\"guilherme@gmail.com\",'Chave não encontrada')\n",
    "\n",
    "print(var2)"
   ]
  },
  {
   "cell_type": "markdown",
   "metadata": {},
   "source": [
    "**{}.popitem**\n",
    "* remove item por item em uma chave.\n",
    "* sem defaut neste caso."
   ]
  },
  {
   "cell_type": "code",
   "execution_count": 47,
   "metadata": {},
   "outputs": [
    {
     "name": "stdout",
     "output_type": "stream",
     "text": [
      "('giovanna@gmail.com', {'nome': 'Giovanna', 'telefone': '3443-2121'})\n",
      "('guilherme@gmail.com', {'nome': 'Guilherme', 'telefone': '3333-2221'})\n"
     ]
    },
    {
     "ename": "KeyError",
     "evalue": "'popitem(): dictionary is empty'",
     "output_type": "error",
     "traceback": [
      "\u001b[1;31m---------------------------------------------------------------------------\u001b[0m",
      "\u001b[1;31mKeyError\u001b[0m                                  Traceback (most recent call last)",
      "Cell \u001b[1;32mIn [47], line 14\u001b[0m\n\u001b[0;32m     10\u001b[0m var2 \u001b[39m=\u001b[39m contatos\u001b[39m.\u001b[39mpopitem()\n\u001b[0;32m     12\u001b[0m \u001b[39mprint\u001b[39m(var2)\n\u001b[1;32m---> 14\u001b[0m var3 \u001b[39m=\u001b[39m contatos\u001b[39m.\u001b[39mpopitem()\n\u001b[0;32m     16\u001b[0m \u001b[39mprint\u001b[39m(var3)\n",
      "\u001b[1;31mKeyError\u001b[0m: 'popitem(): dictionary is empty'"
     ]
    }
   ],
   "source": [
    "contatos = {\n",
    "    \"guilherme@gmail.com\": {\"nome\": \"Guilherme\", \"telefone\": \"3333-2221\"},\n",
    "    \"giovanna@gmail.com\": {\"nome\": \"Giovanna\", \"telefone\": \"3443-2121\"}\n",
    "}\n",
    "\n",
    "var = contatos.popitem()\n",
    "\n",
    "print(var)\n",
    "\n",
    "var2 = contatos.popitem()\n",
    "\n",
    "print(var2)\n",
    "\n",
    "var3 = contatos.popitem()\n",
    "\n",
    "print(var3)"
   ]
  },
  {
   "cell_type": "markdown",
   "metadata": {},
   "source": [
    "**{}.setdefault**\n",
    "* verifica se uma chave existe. \n",
    "* se não existir, insere a nova chave e valor."
   ]
  },
  {
   "cell_type": "code",
   "execution_count": 53,
   "metadata": {},
   "outputs": [
    {
     "name": "stdout",
     "output_type": "stream",
     "text": [
      "{'nome': 'Eduardo', 'Idade': 46, 'Cidade': 'Barra Mansa'}\n"
     ]
    }
   ],
   "source": [
    "pessoa = {'nome': 'Eduardo', 'Idade': 46}\n",
    "pessoa.setdefault('Cidade', 'Barra Mansa')\n",
    "print(pessoa)"
   ]
  },
  {
   "cell_type": "markdown",
   "metadata": {},
   "source": [
    "**{}.update**\n",
    "* atualiza o valor de uma chave"
   ]
  },
  {
   "cell_type": "code",
   "execution_count": 55,
   "metadata": {},
   "outputs": [
    {
     "name": "stdout",
     "output_type": "stream",
     "text": [
      "{'guilherme@gmail.com': {'nome': 'Gui'}}\n"
     ]
    }
   ],
   "source": [
    "contatos = {\n",
    "    \"guilherme@gmail.com\": {\"nome\": \"Guilherme\", \"telefone\": \"3333-2221\"}\n",
    "}\n",
    "\n",
    "contatos.update({\"guilherme@gmail.com\": {\"nome\": \"Gui\"}})\n",
    "print(contatos)\n"
   ]
  },
  {
   "cell_type": "markdown",
   "metadata": {},
   "source": [
    "**{}.values**\n",
    "* retorna apenas os valores de um dicionário"
   ]
  },
  {
   "cell_type": "code",
   "execution_count": 56,
   "metadata": {},
   "outputs": [
    {
     "data": {
      "text/plain": [
       "dict_values([{'nome': 'Guilherme', 'telefone': '3333-2221'}, {'nome': 'Giovanna', 'telefone': '3443-2121'}])"
      ]
     },
     "execution_count": 56,
     "metadata": {},
     "output_type": "execute_result"
    }
   ],
   "source": [
    "contatos = {\n",
    "    \"guilherme@gmail.com\": {\"nome\": \"Guilherme\", \"telefone\": \"3333-2221\"},\n",
    "    \"giovanna@gmail.com\": {\"nome\": \"Giovanna\", \"telefone\": \"3443-2121\"}\n",
    "}\n",
    "\n",
    "contatos.values()"
   ]
  },
  {
   "cell_type": "markdown",
   "metadata": {},
   "source": [
    "**{}.in**\n",
    "* verifica se uma chave existe em um dicionário"
   ]
  },
  {
   "cell_type": "code",
   "execution_count": 58,
   "metadata": {},
   "outputs": [
    {
     "name": "stdout",
     "output_type": "stream",
     "text": [
      "True\n"
     ]
    }
   ],
   "source": [
    "contatos = {\n",
    "    \"guilherme@gmail.com\": {\"nome\": \"Guilherme\", \"telefone\": \"3333-2221\"},\n",
    "    \"giovanna@gmail.com\": {\"nome\": \"Giovanna\", \"telefone\": \"3443-2121\"}\n",
    "}\n",
    "\n",
    "resultado = 'guilherme@gmail.com' in contatos\n",
    "print(resultado)"
   ]
  },
  {
   "cell_type": "markdown",
   "metadata": {},
   "source": [
    "**{}.del**\n",
    "* remove objetos em um dicionário"
   ]
  },
  {
   "cell_type": "code",
   "execution_count": 59,
   "metadata": {},
   "outputs": [
    {
     "name": "stdout",
     "output_type": "stream",
     "text": [
      "{'guilherme@gmail.com': {'nome': 'Guilherme'}, 'giovanna@gmail.com': {'nome': 'Giovanna', 'telefone': '3443-2121'}, 'chappie@gmail.com': {'nome': 'Chappie', 'telefone': '3344-9871'}, 'melaine@gmail.com': {'nome': 'Melaine', 'telefone': '3333-7766'}}\n"
     ]
    }
   ],
   "source": [
    "contatos = {\n",
    "    \"guilherme@gmail.com\": {\"nome\": \"Guilherme\", \"telefone\": \"3333-2221\"},\n",
    "    \"giovanna@gmail.com\": {\"nome\": \"Giovanna\", \"telefone\": \"3443-2121\"},\n",
    "    \"chappie@gmail.com\": {\"nome\": \"Chappie\", \"telefone\": \"3344-9871\"},\n",
    "    \"melaine@gmail.com\": {\"nome\": \"Melaine\", \"telefone\": \"3333-7766\"},\n",
    "}\n",
    "\n",
    "# removendo uma chave e valor\n",
    "\n",
    "del contatos[\"guilherme@gmail.com\"]['telefone']\n",
    "print(contatos)"
   ]
  },
  {
   "cell_type": "code",
   "execution_count": 60,
   "metadata": {},
   "outputs": [
    {
     "name": "stdout",
     "output_type": "stream",
     "text": [
      "{'giovanna@gmail.com': {'nome': 'Giovanna', 'telefone': '3443-2121'}, 'chappie@gmail.com': {'nome': 'Chappie', 'telefone': '3344-9871'}, 'melaine@gmail.com': {'nome': 'Melaine', 'telefone': '3333-7766'}}\n"
     ]
    }
   ],
   "source": [
    "contatos = {\n",
    "    \"guilherme@gmail.com\": {\"nome\": \"Guilherme\", \"telefone\": \"3333-2221\"},\n",
    "    \"giovanna@gmail.com\": {\"nome\": \"Giovanna\", \"telefone\": \"3443-2121\"},\n",
    "    \"chappie@gmail.com\": {\"nome\": \"Chappie\", \"telefone\": \"3344-9871\"},\n",
    "    \"melaine@gmail.com\": {\"nome\": \"Melaine\", \"telefone\": \"3333-7766\"},\n",
    "}\n",
    "\n",
    "# removendo todo um registro\n",
    "\n",
    "del contatos[\"guilherme@gmail.com\"]\n",
    "print(contatos)"
   ]
  }
 ],
 "metadata": {
  "kernelspec": {
   "display_name": "Python 3.10.6 64-bit",
   "language": "python",
   "name": "python3"
  },
  "language_info": {
   "codemirror_mode": {
    "name": "ipython",
    "version": 3
   },
   "file_extension": ".py",
   "mimetype": "text/x-python",
   "name": "python",
   "nbconvert_exporter": "python",
   "pygments_lexer": "ipython3",
   "version": "3.10.6"
  },
  "orig_nbformat": 4,
  "vscode": {
   "interpreter": {
    "hash": "91e32b75ecf3080d170411cb1649c483b59a4efe3288a5b0a9b6b201a0b09750"
   }
  }
 },
 "nbformat": 4,
 "nbformat_minor": 2
}
